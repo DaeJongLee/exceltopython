{
 "cells": [
  {
   "cell_type": "code",
   "execution_count": 49,
   "metadata": {},
   "outputs": [
    {
     "name": "stdout",
     "output_type": "stream",
     "text": [
      "              Unnamed: 2 Unnamed: 5 Unnamed: 6 Unnamed: 7 Unnamed: 8  \\\n",
      "581  2024-02-06 00:00:00          화         91        107         13   \n",
      "582  2024-02-07 00:00:00          수         78         88          1   \n",
      "583  2024-02-07 00:00:00          수        NaN        NaN        NaN   \n",
      "584  2024-02-07 00:00:00          수         90        100          5   \n",
      "585  2024-02-07 00:00:00          수         10         10         10   \n",
      "\n",
      "    Unnamed: 10  \n",
      "581         604  \n",
      "582         692  \n",
      "583         692  \n",
      "584         692  \n",
      "585         692  \n",
      "파일 저장이 취소되었습니다.\n"
     ]
    }
   ],
   "source": [
    "import pandas as pd\n",
    "\n",
    "def save_excel_with_user_confirmation(df, file_path):\n",
    "    # 함수 내부에서 사용자 입력 받기\n",
    "    user_input = input(\"변경 내용을 Excel 파일에 저장하시겠습니까? (예/아니오): \")\n",
    "    \n",
    "    # 사용자 응답에 따라 조건 분기\n",
    "    if user_input.lower() == '예':\n",
    "        # 사용자가 '예'라고 대답한 경우, 파일 저장\n",
    "        df.to_excel(file_path, sheet_name='매출', index=False)\n",
    "        print(\"파일이 저장되었습니다.\")\n",
    "    elif user_input.lower() == '아니오':\n",
    "        # 사용자가 '아니오'라고 대답한 경우, 저장하지 않음\n",
    "        print(\"파일 저장이 취소되었습니다.\")\n",
    "    else:\n",
    "        # 사용자가 '예' 또는 '아니오' 이외의 응답을 한 경우\n",
    "        print(\"잘못된 입력입니다. 파일 저장이 취소되었습니다.\")\n",
    "        \n"
   ]
  },
  {
   "cell_type": "code",
   "execution_count": 57,
   "metadata": {},
   "outputs": [
    {
     "name": "stdout",
     "output_type": "stream",
     "text": [
      "              Unnamed: 2 Unnamed: 5 Unnamed: 6 Unnamed: 7 Unnamed: 8  \\\n",
      "580  2024-02-05 00:00:00          월         93         86          4   \n",
      "581  2024-02-06 00:00:00          화         91        107         13   \n",
      "582  2024-02-07 00:00:00          수         78         88          1   \n",
      "583  2024-02-07 00:00:00          수        NaN        NaN        NaN   \n",
      "584  2024-02-07 00:00:00          수         90        100          5   \n",
      "\n",
      "    Unnamed: 10  \n",
      "580         497  \n",
      "581         604  \n",
      "582         692  \n",
      "583         692  \n",
      "584         692  \n"
     ]
    }
   ],
   "source": [
    "# 엑셀 파일 경로\n",
    "file_path = '/Users/idaejong/Library/CloudStorage/OneDrive-개인/약국결산폴더/이번달 결산 복사본.xlsx'\n",
    "# 판다스를 이용해 엑셀 파일 불러오기\n",
    "df = pd.read_excel(file_path, sheet_name='매출')\n",
    "\n",
    "# 변경 후 다시 선택된 열의 마지막 10행을 selected_columns에 할당\n",
    "selected_columns = df[['Unnamed: 2', 'Unnamed: 5', 'Unnamed: 6', 'Unnamed: 7', 'Unnamed: 8', 'Unnamed: 10']].tail(5)\n",
    "\n",
    "# 변경된 selected_columns 출력\n",
    "print(selected_columns)\n"
   ]
  },
  {
   "cell_type": "code",
   "execution_count": null,
   "metadata": {},
   "outputs": [],
   "source": [
    "\n",
    "# 사용자 입력 받기\n",
    "inp1 = input(\"객수: \")\n",
    "inp2 = input(\"매출: \")\n",
    "inp3 = input(\"현금: \")\n",
    "\n",
    "# 마지막 행 인덱스 찾기\n",
    "last_row_index = df.index[-1]\n",
    "\n",
    "# 새로운 행에 데이터 할당\n",
    "df.loc[last_row_index + 1] = df.loc[last_row_index].values  # 기존 마지막 행의 값을 새로운 행에 복사\n",
    "df.at[last_row_index + 1, 'Unnamed: 6'] = inp1\n",
    "df.at[last_row_index + 1, 'Unnamed: 7'] = inp2\n",
    "df.at[last_row_index + 1, 'Unnamed: 8'] = inp3\n",
    "\n",
    "save_excel_with_user_confirmation(df, file_path)\n",
    "\n"
   ]
  },
  {
   "cell_type": "code",
   "execution_count": 52,
   "metadata": {},
   "outputs": [
    {
     "name": "stdout",
     "output_type": "stream",
     "text": [
      "              Unnamed: 2 Unnamed: 5 Unnamed: 6 Unnamed: 7 Unnamed: 8  \\\n",
      "581  2024-02-06 00:00:00          화         91        107         13   \n",
      "582  2024-02-07 00:00:00          수         78         88          1   \n",
      "583  2024-02-07 00:00:00          수        NaN        NaN        NaN   \n",
      "584  2024-02-07 00:00:00          수         90        100          5   \n",
      "\n",
      "    Unnamed: 10  \n",
      "581         604  \n",
      "582         692  \n",
      "583         692  \n",
      "584         692  \n"
     ]
    },
    {
     "name": "stdout",
     "output_type": "stream",
     "text": [
      "잘못된 입력입니다. 파일 저장이 취소되었습니다.\n"
     ]
    }
   ],
   "source": [
    "#마지막줄 삭제 \n",
    "del_selected_columns = selected_columns.drop(last_row_index + 1, axis=0)\n",
    "print(del_selected_columns\n",
    "save_excel_with_user_confirmation(df, file_path)\n",
    "\n"
   ]
  },
  {
   "cell_type": "code",
   "execution_count": null,
   "metadata": {},
   "outputs": [],
   "source": []
  },
  {
   "cell_type": "code",
   "execution_count": null,
   "metadata": {},
   "outputs": [],
   "source": []
  },
  {
   "cell_type": "code",
   "execution_count": null,
   "metadata": {},
   "outputs": [],
   "source": []
  }
 ],
 "metadata": {
  "kernelspec": {
   "display_name": "Python 3",
   "language": "python",
   "name": "python3"
  },
  "language_info": {
   "codemirror_mode": {
    "name": "ipython",
    "version": 3
   },
   "file_extension": ".py",
   "mimetype": "text/x-python",
   "name": "python",
   "nbconvert_exporter": "python",
   "pygments_lexer": "ipython3",
   "version": "3.11.7"
  }
 },
 "nbformat": 4,
 "nbformat_minor": 2
}
